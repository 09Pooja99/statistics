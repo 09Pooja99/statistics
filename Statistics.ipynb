{
 "cells": [
  {
   "cell_type": "code",
   "execution_count": 12,
   "id": "fecdb80c-e30a-4a0f-9c0a-98236a096eac",
   "metadata": {},
   "outputs": [],
   "source": [
    "import numpy as np\n",
    "import matplotlib.pyplot as plt\n",
    "import statistics"
   ]
  },
  {
   "cell_type": "code",
   "execution_count": 3,
   "id": "7a6ffa23-a238-4e33-896d-8455e4ce93e2",
   "metadata": {},
   "outputs": [
    {
     "data": {
      "text/plain": [
       "array([21.55240243, 17.38441905, 13.3711793 , ..., 14.14797638,\n",
       "       32.56007292, 38.60984071])"
      ]
     },
     "execution_count": 3,
     "metadata": {},
     "output_type": "execute_result"
    }
   ],
   "source": [
    "data = np.random.randn(50000) * 20 + 20\n",
    "\n",
    "data"
   ]
  },
  {
   "cell_type": "code",
   "execution_count": 4,
   "id": "81ca7ad0-3901-48a4-a62c-e588e8d66733",
   "metadata": {},
   "outputs": [],
   "source": [
    "def find_anomalies(data):\n",
    "    anomalies = []\n",
    "\n",
    "    random_data_std = statistics.stdev(data)\n",
    "    random_data_mean = statistics.mean(data)\n",
    "    anomaly_cut_off = random_data_std * 3\n",
    "\n",
    "    lower_limit = random_data_mean - anomaly_cut_off\n",
    "    upper_limit = random_data_mean + anomaly_cut_off\n",
    "    print(lower_limit)\n",
    "#generate outliers\n",
    "    for outlier in data:\n",
    "        if outlier > upper_limit or outlier < lower_limit:\n",
    "            anomalies.append(outlier)\n",
    "    return anomalies"
   ]
  },
  {
   "cell_type": "code",
   "execution_count": 5,
   "id": "08cac983-36a6-46ad-b141-1c67ccb17cc3",
   "metadata": {},
   "outputs": [
    {
     "name": "stdout",
     "output_type": "stream",
     "text": [
      "-39.85498495686068\n"
     ]
    },
    {
     "data": {
      "text/plain": [
       "[82.07924374330261,\n",
       " -41.00410364632989,\n",
       " -41.439842075680026,\n",
       " -43.089212118926234,\n",
       " -41.051489653598395,\n",
       " 86.1796071056081,\n",
       " 90.21691380827839,\n",
       " 84.13197333269375,\n",
       " -48.59331221350824,\n",
       " -42.45429243225307,\n",
       " 83.70998014096443,\n",
       " -45.22961234907217,\n",
       " 82.64678865354105,\n",
       " 83.31356411356717,\n",
       " -43.545382534398684,\n",
       " -49.884423313926604,\n",
       " -44.88194998804167,\n",
       " 80.32139420384762,\n",
       " 83.21324462929294,\n",
       " 82.26689881661068,\n",
       " 82.06219494666473,\n",
       " -45.609005921192235,\n",
       " 80.11682318950594,\n",
       " -48.63072422312277,\n",
       " -44.11988901418144,\n",
       " 82.7596395112248,\n",
       " 80.65818936621434,\n",
       " -44.236348515991736,\n",
       " 86.21572828557167,\n",
       " 85.30911066611434,\n",
       " -43.49891492666619,\n",
       " -55.5127104780792,\n",
       " 82.09682927855857,\n",
       " -44.26179141138445,\n",
       " -43.139674009346706,\n",
       " 81.70509827681325,\n",
       " -62.77811028202834,\n",
       " -44.68698765984482,\n",
       " -47.30615750170769,\n",
       " 84.84207535127278,\n",
       " 83.8877891516673,\n",
       " 84.1223637142613,\n",
       " -51.517506490845506,\n",
       " 82.33349585747831,\n",
       " 80.75723951838862,\n",
       " 82.71456226128055,\n",
       " -42.97319357797264,\n",
       " -43.99071101331721,\n",
       " 84.63132048151132,\n",
       " 88.1694041065632,\n",
       " 80.2914990214358,\n",
       " 85.58004513218603,\n",
       " -46.27323638313766,\n",
       " 86.72899228338284,\n",
       " -52.65410028574898,\n",
       " -46.89052421117046,\n",
       " 81.28296304690816,\n",
       " 86.11004262071188,\n",
       " 86.41735431766409,\n",
       " 85.10305157645973,\n",
       " 84.16368705027466,\n",
       " 96.88057847419964,\n",
       " 86.29630298261424,\n",
       " -46.368104880346124,\n",
       " 98.95278944848476,\n",
       " -59.705122811241765,\n",
       " -40.75932401341671,\n",
       " 94.65054246679858,\n",
       " 84.29198146576763,\n",
       " 80.06874946884383,\n",
       " 88.26937712046842,\n",
       " 80.66409019856295,\n",
       " -43.7445020025838,\n",
       " 80.41550350079567,\n",
       " 79.97051754709358,\n",
       " 85.32117097416017,\n",
       " -42.42751156920363,\n",
       " 82.272554276791,\n",
       " -46.73446177934605,\n",
       " -45.710937308141794,\n",
       " -66.10595325665058,\n",
       " 80.0091477828894,\n",
       " -40.62406964037824,\n",
       " -40.502698010375404,\n",
       " -41.93129014163408,\n",
       " -45.25945825439803,\n",
       " -42.225704099109365,\n",
       " 85.56763862532492,\n",
       " -46.815392617549364,\n",
       " -42.75730561701256,\n",
       " 82.9553501942234,\n",
       " 82.89176170203248,\n",
       " -42.62881889510361,\n",
       " 80.16296760680466,\n",
       " 82.7853778361102,\n",
       " -44.32161488865874,\n",
       " 80.64485128347563,\n",
       " 83.80376647805605,\n",
       " 82.158146831311,\n",
       " 89.42675641668674,\n",
       " 84.15027540834689,\n",
       " -43.74726163803779,\n",
       " 86.66125940425842,\n",
       " 80.59384253618362,\n",
       " 82.72755520746006,\n",
       " 102.67021447755995,\n",
       " -41.523847848670954,\n",
       " 82.32506635287204,\n",
       " -42.490977589992404,\n",
       " 81.92078199965343,\n",
       " -43.31068365859586,\n",
       " -41.05680784843152,\n",
       " 89.71349066238749,\n",
       " -50.212555563515636,\n",
       " 93.66433610691665,\n",
       " 99.72314207211411,\n",
       " -40.708002108071504,\n",
       " 96.76614146703304,\n",
       " 89.63387808492222,\n",
       " -40.475234673505426,\n",
       " -43.11645726699328,\n",
       " -42.7427044797773,\n",
       " 84.13520861986572,\n",
       " 84.06589277988245,\n",
       " 82.48400799267526,\n",
       " -40.02460880935846,\n",
       " 83.66819469302663,\n",
       " -52.609939674560735,\n",
       " -44.427828237302975,\n",
       " 96.11492643762514]"
      ]
     },
     "execution_count": 5,
     "metadata": {},
     "output_type": "execute_result"
    }
   ],
   "source": [
    "find_anomalies(data)"
   ]
  },
  {
   "cell_type": "markdown",
   "id": "889fac42-4faf-4ca4-b82a-7d98b5f07e27",
   "metadata": {},
   "source": [
    "Boxplots"
   ]
  },
  {
   "cell_type": "code",
   "execution_count": 13,
   "id": "480e6929-4b3e-4bdf-9c3b-eaa9b078552c",
   "metadata": {},
   "outputs": [],
   "source": [
    "import seaborn as sns\n",
    "import matplotlib.pyplot as plt\n"
   ]
  },
  {
   "cell_type": "code",
   "execution_count": 7,
   "id": "d9503559-485b-4d0a-b1c4-b98e504edf26",
   "metadata": {},
   "outputs": [
    {
     "data": {
      "text/plain": [
       "<Axes: >"
      ]
     },
     "execution_count": 7,
     "metadata": {},
     "output_type": "execute_result"
    },
    {
     "data": {
      "image/png": "[encoded data removed]",
      "text/plain": [
       "<Figure size 640x480 with 1 Axes>"
      ]
     },
     "metadata": {},
     "output_type": "display_data"
    }
   ],
   "source": [
    "sns.boxplot(data=data)"
   ]
  },
  {
   "cell_type": "code",
   "execution_count": 8,
   "id": "1d4e938a-28b5-4bdf-bf0f-a8278c9434c1",
   "metadata": {},
   "outputs": [],
   "source": [
    "import pandas as pd\n",
    "df = pd.DataFrame(data)"
   ]
  },
  {
   "cell_type": "code",
   "execution_count": 9,
   "id": "c7ac85d3-93f8-4673-862c-a78fd08f5b66",
   "metadata": {},
   "outputs": [
    {
     "data": {
      "text/html": [
       "<div>\n",
       "<style scoped>\n",
       "    .dataframe tbody tr th:only-of-type {\n",
       "        vertical-align: middle;\n",
       "    }\n",
       "\n",
       "    .dataframe tbody tr th {\n",
       "        vertical-align: top;\n",
       "    }\n",
       "\n",
       "    .dataframe thead th {\n",
       "        text-align: right;\n",
       "    }\n",
       "</style>\n",
       "<table border=\"1\" class=\"dataframe\">\n",
       "  <thead>\n",
       "    <tr style=\"text-align: right;\">\n",
       "      <th></th>\n",
       "      <th>0</th>\n",
       "    </tr>\n",
       "  </thead>\n",
       "  <tbody>\n",
       "    <tr>\n",
       "      <th>count</th>\n",
       "      <td>50000.000000</td>\n",
       "    </tr>\n",
       "    <tr>\n",
       "      <th>mean</th>\n",
       "      <td>20.055040</td>\n",
       "    </tr>\n",
       "    <tr>\n",
       "      <th>std</th>\n",
       "      <td>19.970008</td>\n",
       "    </tr>\n",
       "    <tr>\n",
       "      <th>min</th>\n",
       "      <td>-66.105953</td>\n",
       "    </tr>\n",
       "    <tr>\n",
       "      <th>25%</th>\n",
       "      <td>6.515341</td>\n",
       "    </tr>\n",
       "    <tr>\n",
       "      <th>50%</th>\n",
       "      <td>20.110767</td>\n",
       "    </tr>\n",
       "    <tr>\n",
       "      <th>75%</th>\n",
       "      <td>33.667994</td>\n",
       "    </tr>\n",
       "    <tr>\n",
       "      <th>max</th>\n",
       "      <td>102.670214</td>\n",
       "    </tr>\n",
       "  </tbody>\n",
       "</table>\n",
       "</div>"
      ],
      "text/plain": [
       "                  0\n",
       "count  50000.000000\n",
       "mean      20.055040\n",
       "std       19.970008\n",
       "min      -66.105953\n",
       "25%        6.515341\n",
       "50%       20.110767\n",
       "75%       33.667994\n",
       "max      102.670214"
      ]
     },
     "execution_count": 9,
     "metadata": {},
     "output_type": "execute_result"
    }
   ],
   "source": [
    "df.describe()"
   ]
  },
  {
   "cell_type": "markdown",
   "id": "f5560050-b01c-4d96-8d4c-32453512e34c",
   "metadata": {},
   "source": [
    "Inter Quartile Range\n",
    "\n",
    "IQR = Q3-Q1\n"
   ]
  },
  {
   "cell_type": "code",
   "execution_count": 10,
   "id": "747cbd5e-6edd-434a-b37d-de189a9c8436",
   "metadata": {},
   "outputs": [],
   "source": [
    "list1= [43,54,56,61,62,66,68,69,69,70,71,72,77,78,79,85,87,88,89,93,95,96,98,99,99]"
   ]
  },
  {
   "cell_type": "code",
   "execution_count": 11,
   "id": "82773cbd-77d6-4d9f-b589-49b7be18b7a3",
   "metadata": {},
   "outputs": [
    {
     "data": {
      "text/plain": [
       "[43,\n",
       " 54,\n",
       " 56,\n",
       " 61,\n",
       " 62,\n",
       " 66,\n",
       " 68,\n",
       " 69,\n",
       " 69,\n",
       " 70,\n",
       " 71,\n",
       " 72,\n",
       " 77,\n",
       " 78,\n",
       " 79,\n",
       " 85,\n",
       " 87,\n",
       " 88,\n",
       " 89,\n",
       " 93,\n",
       " 95,\n",
       " 96,\n",
       " 98,\n",
       " 99,\n",
       " 99]"
      ]
     },
     "execution_count": 11,
     "metadata": {},
     "output_type": "execute_result"
    }
   ],
   "source": [
    "list1"
   ]
  },
  {
   "cell_type": "code",
   "execution_count": 12,
   "id": "7af537e8-b86b-4020-ba40-03d66774c198",
   "metadata": {},
   "outputs": [
    {
     "data": {
      "text/plain": [
       "25"
      ]
     },
     "execution_count": 12,
     "metadata": {},
     "output_type": "execute_result"
    }
   ],
   "source": [
    "len(list1)"
   ]
  },
  {
   "cell_type": "code",
   "execution_count": 13,
   "id": "3795c4ce-b185-46a8-a858-78b222126049",
   "metadata": {},
   "outputs": [
    {
     "data": {
      "text/plain": [
       "99"
      ]
     },
     "execution_count": 13,
     "metadata": {},
     "output_type": "execute_result"
    }
   ],
   "source": [
    "max(list1)"
   ]
  },
  {
   "cell_type": "code",
   "execution_count": 14,
   "id": "ce7caebf-c4b5-44b6-b7ae-e19356d6db8e",
   "metadata": {},
   "outputs": [
    {
     "data": {
      "text/plain": [
       "43"
      ]
     },
     "execution_count": 14,
     "metadata": {},
     "output_type": "execute_result"
    }
   ],
   "source": [
    "min(list1)"
   ]
  },
  {
   "cell_type": "code",
   "execution_count": 15,
   "id": "359a9b33-7b0e-44fb-a59d-b1bd25537266",
   "metadata": {},
   "outputs": [
    {
     "data": {
      "text/plain": [
       "76.96"
      ]
     },
     "execution_count": 15,
     "metadata": {},
     "output_type": "execute_result"
    }
   ],
   "source": [
    "statistics.mean(list1)"
   ]
  },
  {
   "cell_type": "markdown",
   "id": "219589f1-32b0-49b9-9050-3056ad4bcc4d",
   "metadata": {},
   "source": [
    " To find the 90th percentile for these scores\n",
    " sort the list first\n",
    " which gives 90% * 25 = 22.5(index), round up is 23\n",
    " if it gives whole no. (22,index) take avg of 22 and 23"
   ]
  },
  {
   "cell_type": "code",
   "execution_count": 16,
   "id": "77690c01-bff8-4f99-996d-6bd30eef2793",
   "metadata": {},
   "outputs": [],
   "source": [
    "list2 = sorted(list1)"
   ]
  },
  {
   "cell_type": "code",
   "execution_count": 17,
   "id": "d8aa7bc4-282a-4eb6-8c84-a7b8ec7b7673",
   "metadata": {},
   "outputs": [
    {
     "data": {
      "text/plain": [
       "[43,\n",
       " 54,\n",
       " 56,\n",
       " 61,\n",
       " 62,\n",
       " 66,\n",
       " 68,\n",
       " 69,\n",
       " 69,\n",
       " 70,\n",
       " 71,\n",
       " 72,\n",
       " 77,\n",
       " 78,\n",
       " 79,\n",
       " 85,\n",
       " 87,\n",
       " 88,\n",
       " 89,\n",
       " 93,\n",
       " 95,\n",
       " 96,\n",
       " 98,\n",
       " 99,\n",
       " 99]"
      ]
     },
     "execution_count": 17,
     "metadata": {},
     "output_type": "execute_result"
    }
   ],
   "source": [
    "list2"
   ]
  },
  {
   "cell_type": "markdown",
   "id": "a078941b-017a-4206-bb1f-1106e708db4f",
   "metadata": {},
   "source": [
    "clustering technique \n",
    "labelled data and unlabelled data\n",
    "unsupervised learnings \n",
    "K-mean clustering\n",
    "\n",
    "ML Algorithms"
   ]
  },
  {
   "cell_type": "markdown",
   "id": "cad04828-01f8-43d4-a5dc-b33a3de84780",
   "metadata": {},
   "source": [
    "Measure of central tendency\n",
    ":\n",
    "Mean\n",
    "Median\n",
    "Mode"
   ]
  },
  {
   "cell_type": "code",
   "execution_count": 19,
   "id": "c428e58f-a627-4ad4-b828-7c925b595a60",
   "metadata": {},
   "outputs": [
    {
     "data": {
      "text/plain": [
       "[43,\n",
       " 54,\n",
       " 56,\n",
       " 61,\n",
       " 62,\n",
       " 66,\n",
       " 68,\n",
       " 69,\n",
       " 69,\n",
       " 70,\n",
       " 71,\n",
       " 72,\n",
       " 77,\n",
       " 78,\n",
       " 79,\n",
       " 85,\n",
       " 87,\n",
       " 88,\n",
       " 89,\n",
       " 93,\n",
       " 95,\n",
       " 96,\n",
       " 98,\n",
       " 99,\n",
       " 99]"
      ]
     },
     "execution_count": 19,
     "metadata": {},
     "output_type": "execute_result"
    }
   ],
   "source": [
    "#Mean/Average\n",
    "#Median \n",
    "list1"
   ]
  },
  {
   "cell_type": "code",
   "execution_count": 20,
   "id": "4fa2cf7d-b37f-448e-aa30-8ba077120b8a",
   "metadata": {},
   "outputs": [
    {
     "data": {
      "text/plain": [
       "[43,\n",
       " 54,\n",
       " 56,\n",
       " 61,\n",
       " 62,\n",
       " 66,\n",
       " 68,\n",
       " 69,\n",
       " 69,\n",
       " 70,\n",
       " 71,\n",
       " 72,\n",
       " 77,\n",
       " 78,\n",
       " 79,\n",
       " 85,\n",
       " 87,\n",
       " 88,\n",
       " 89,\n",
       " 93,\n",
       " 95,\n",
       " 96,\n",
       " 98,\n",
       " 99,\n",
       " 99]"
      ]
     },
     "execution_count": 20,
     "metadata": {},
     "output_type": "execute_result"
    }
   ],
   "source": [
    "list2"
   ]
  },
  {
   "cell_type": "code",
   "execution_count": 21,
   "id": "a503649e-4849-459f-9b37-506f2d834ffb",
   "metadata": {},
   "outputs": [
    {
     "data": {
      "text/plain": [
       "77"
      ]
     },
     "execution_count": 21,
     "metadata": {},
     "output_type": "execute_result"
    }
   ],
   "source": [
    "statistics.median(list2)"
   ]
  },
  {
   "cell_type": "code",
   "execution_count": 22,
   "id": "79b2f192-bbef-43b4-8ebf-0ca1c6520f58",
   "metadata": {},
   "outputs": [
    {
     "data": {
      "text/plain": [
       "69"
      ]
     },
     "execution_count": 22,
     "metadata": {},
     "output_type": "execute_result"
    }
   ],
   "source": [
    "statistics.mode(list2)"
   ]
  },
  {
   "cell_type": "code",
   "execution_count": 23,
   "id": "bb582f11-b467-4511-b54d-89c9489c1c3d",
   "metadata": {},
   "outputs": [
    {
     "data": {
      "text/plain": [
       "0   -0.00638\n",
       "dtype: float64"
      ]
     },
     "execution_count": 23,
     "metadata": {},
     "output_type": "execute_result"
    }
   ],
   "source": [
    "df.skew()"
   ]
  },
  {
   "cell_type": "code",
   "execution_count": 24,
   "id": "3f318203-9b95-4b1b-8347-bd630e8fcb4d",
   "metadata": {},
   "outputs": [
    {
     "data": {
      "text/plain": [
       "0   -0.0204\n",
       "dtype: float64"
      ]
     },
     "execution_count": 24,
     "metadata": {},
     "output_type": "execute_result"
    }
   ],
   "source": [
    "df.kurt()"
   ]
  },
  {
   "cell_type": "markdown",
   "id": "5feb2afd-c622-4581-a114-b566eb578c57",
   "metadata": {},
   "source": [
    "Handle left skewness"
   ]
  },
  {
   "cell_type": "code",
   "execution_count": 21,
   "id": "4718e8ef-0d7e-452a-bd34-e251e29ecf2f",
   "metadata": {},
   "outputs": [],
   "source": [
    "import pandas as pd"
   ]
  },
  {
   "cell_type": "code",
   "execution_count": 28,
   "id": "a3927f63-8360-414b-a963-c0a393fadc9e",
   "metadata": {},
   "outputs": [],
   "source": [
    "data = [['Sameer',10], ['Pankaj',20], ['Sam',30], ['Hemant',48], ['Vivek',62]]"
   ]
  },
  {
   "cell_type": "code",
   "execution_count": 32,
   "id": "fb7c7d37-6875-4da6-870f-8f23cfe3fac2",
   "metadata": {},
   "outputs": [],
   "source": [
    "df =pd.DataFrame(data, columns= ['Name', 'Marks'])"
   ]
  },
  {
   "cell_type": "code",
   "execution_count": 33,
   "id": "b658b9ba-94a1-4f11-84f7-708a668329f9",
   "metadata": {},
   "outputs": [
    {
     "data": {
      "text/html": [
       "<div>\n",
       "<style scoped>\n",
       "    .dataframe tbody tr th:only-of-type {\n",
       "        vertical-align: middle;\n",
       "    }\n",
       "\n",
       "    .dataframe tbody tr th {\n",
       "        vertical-align: top;\n",
       "    }\n",
       "\n",
       "    .dataframe thead th {\n",
       "        text-align: right;\n",
       "    }\n",
       "</style>\n",
       "<table border=\"1\" class=\"dataframe\">\n",
       "  <thead>\n",
       "    <tr style=\"text-align: right;\">\n",
       "      <th></th>\n",
       "      <th>Name</th>\n",
       "      <th>Marks</th>\n",
       "    </tr>\n",
       "  </thead>\n",
       "  <tbody>\n",
       "    <tr>\n",
       "      <th>0</th>\n",
       "      <td>Sameer</td>\n",
       "      <td>10</td>\n",
       "    </tr>\n",
       "    <tr>\n",
       "      <th>1</th>\n",
       "      <td>Pankaj</td>\n",
       "      <td>20</td>\n",
       "    </tr>\n",
       "    <tr>\n",
       "      <th>2</th>\n",
       "      <td>Sam</td>\n",
       "      <td>30</td>\n",
       "    </tr>\n",
       "    <tr>\n",
       "      <th>3</th>\n",
       "      <td>Hemant</td>\n",
       "      <td>48</td>\n",
       "    </tr>\n",
       "    <tr>\n",
       "      <th>4</th>\n",
       "      <td>Vivek</td>\n",
       "      <td>62</td>\n",
       "    </tr>\n",
       "  </tbody>\n",
       "</table>\n",
       "</div>"
      ],
      "text/plain": [
       "     Name  Marks\n",
       "0  Sameer     10\n",
       "1  Pankaj     20\n",
       "2     Sam     30\n",
       "3  Hemant     48\n",
       "4   Vivek     62"
      ]
     },
     "execution_count": 33,
     "metadata": {},
     "output_type": "execute_result"
    }
   ],
   "source": [
    "df"
   ]
  },
  {
   "cell_type": "code",
   "execution_count": 40,
   "id": "31b9f33d-d53e-44a7-b176-edbb00d7968a",
   "metadata": {},
   "outputs": [
    {
     "data": {
      "text/plain": [
       "<seaborn.axisgrid.FacetGrid at 0x21586670c20>"
      ]
     },
     "execution_count": 40,
     "metadata": {},
     "output_type": "execute_result"
    },
    {
     "data": {
      "image/png": "[encoded data removed]",
      "text/plain": [
       "<Figure size 500x500 with 1 Axes>"
      ]
     },
     "metadata": {},
     "output_type": "display_data"
    }
   ],
   "source": [
    "import seaborn as sns\n",
    "\n",
    "sns.displot(df['Marks'])"
   ]
  },
  {
   "cell_type": "code",
   "execution_count": 41,
   "id": "cd362660-5489-4629-ae4c-2a86c7637b8d",
   "metadata": {},
   "outputs": [
    {
     "data": {
      "text/plain": [
       "0.36158122632558826"
      ]
     },
     "execution_count": 41,
     "metadata": {},
     "output_type": "execute_result"
    }
   ],
   "source": [
    "df['Marks'].skew()"
   ]
  },
  {
   "cell_type": "code",
   "execution_count": 44,
   "id": "06de8262-3561-4b6b-8cd6-cc6e8ecef4c1",
   "metadata": {},
   "outputs": [
    {
     "data": {
      "text/plain": [
       "0     100\n",
       "1     400\n",
       "2     900\n",
       "3    2304\n",
       "4    3844\n",
       "Name: Marks, dtype: int64"
      ]
     },
     "execution_count": 44,
     "metadata": {},
     "output_type": "execute_result"
    }
   ],
   "source": [
    "square_marks =np.square(df['Marks'])\n",
    "square_marks.head(5)"
   ]
  },
  {
   "cell_type": "code",
   "execution_count": 47,
   "id": "c4010e1f-0d5e-4c21-82f2-7e4da523bf89",
   "metadata": {},
   "outputs": [
    {
     "data": {
      "text/plain": [
       "0.9786505621396018"
      ]
     },
     "execution_count": 47,
     "metadata": {},
     "output_type": "execute_result"
    }
   ],
   "source": [
    "square_marks.skew()\n"
   ]
  },
  {
   "cell_type": "code",
   "execution_count": null,
   "id": "d50a8513-1ec8-4157-98e5-7eba829591f3",
   "metadata": {},
   "outputs": [],
   "source": []
  }
 ],
 "metadata": {
  "kernelspec": {
   "display_name": "Python 3 (ipykernel)",
   "language": "python",
   "name": "python3"
  },
  "language_info": {
   "codemirror_mode": {
    "name": "ipython",
    "version": 3
   },
   "file_extension": ".py",
   "mimetype": "text/x-python",
   "name": "python",
   "nbconvert_exporter": "python",
   "pygments_lexer": "ipython3",
   "version": "3.12.7"
  }
 },
 "nbformat": 4,
 "nbformat_minor": 5
}
